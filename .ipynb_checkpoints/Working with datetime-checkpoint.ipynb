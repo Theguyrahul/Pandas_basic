{
 "cells": [
  {
   "cell_type": "code",
   "execution_count": 1,
   "id": "71d18773",
   "metadata": {},
   "outputs": [],
   "source": [
    "import pandas as pd\n",
    "import datetime as dt\n",
    "from pandas_datareader import data"
   ]
  },
  {
   "cell_type": "markdown",
   "id": "5b09b2eb",
   "metadata": {},
   "source": [
    "# Review of Python's `datetime` Module"
   ]
  },
  {
   "cell_type": "code",
   "execution_count": 11,
   "id": "a2b8216d",
   "metadata": {},
   "outputs": [
    {
     "data": {
      "text/plain": [
       "'2016-04-12'"
      ]
     },
     "execution_count": 11,
     "metadata": {},
     "output_type": "execute_result"
    }
   ],
   "source": [
    "sd = dt.date(2016,4,12)\n",
    "str(sd)"
   ]
  },
  {
   "cell_type": "code",
   "execution_count": 7,
   "id": "ad109ec9",
   "metadata": {},
   "outputs": [
    {
     "data": {
      "text/plain": [
       "12"
      ]
     },
     "execution_count": 7,
     "metadata": {},
     "output_type": "execute_result"
    }
   ],
   "source": [
    "sd.year\n",
    "sd.month\n",
    "sd.day"
   ]
  },
  {
   "cell_type": "code",
   "execution_count": 8,
   "id": "51bac1ae",
   "metadata": {},
   "outputs": [
    {
     "data": {
      "text/plain": [
       "datetime.datetime(2010, 1, 10, 0, 0)"
      ]
     },
     "execution_count": 8,
     "metadata": {},
     "output_type": "execute_result"
    }
   ],
   "source": [
    "dt.datetime(2010,1,10)"
   ]
  },
  {
   "cell_type": "code",
   "execution_count": 10,
   "id": "4b9a60ce",
   "metadata": {},
   "outputs": [
    {
     "data": {
      "text/plain": [
       "'2010-01-10 17:13:57'"
      ]
     },
     "execution_count": 10,
     "metadata": {},
     "output_type": "execute_result"
    }
   ],
   "source": [
    "str(dt.datetime(2010,1,10,17,13,57))"
   ]
  },
  {
   "cell_type": "markdown",
   "id": "84586d15",
   "metadata": {},
   "source": [
    "## The `pandas Timestamp` Object"
   ]
  },
  {
   "cell_type": "code",
   "execution_count": 15,
   "id": "990b798d",
   "metadata": {},
   "outputs": [
    {
     "name": "stderr",
     "output_type": "stream",
     "text": [
      "D:\\Rahul\\Anaconda3\\envs\\pandas_playground\\lib\\site-packages\\IPython\\core\\interactiveshell.py:3134: UserWarning: Parsing '19/12/2015' in DD/MM/YYYY format. Provide format or specify infer_datetime_format=True for consistent parsing.\n",
      "  has_raised = await self.run_ast_nodes(code_ast.body, cell_name,\n"
     ]
    },
    {
     "data": {
      "text/plain": [
       "Timestamp('2021-03-08 18:13:29')"
      ]
     },
     "execution_count": 15,
     "metadata": {},
     "output_type": "execute_result"
    }
   ],
   "source": [
    "pd.Timestamp(\"2015-03-31\")\n",
    "pd.Timestamp(\"2015/03/31\")\n",
    "pd.Timestamp(\"19/12/2015\")\n",
    "pd.Timestamp(\"4/3/2000\") # pandas take 4 as month\n",
    "pd.Timestamp(\"2021-03-08 6:13:29 pm\")"
   ]
  },
  {
   "cell_type": "code",
   "execution_count": 16,
   "id": "8741ca6b",
   "metadata": {},
   "outputs": [
    {
     "data": {
      "text/plain": [
       "Timestamp('2015-01-01 00:00:00')"
      ]
     },
     "execution_count": 16,
     "metadata": {},
     "output_type": "execute_result"
    }
   ],
   "source": [
    "pd.Timestamp(dt.date(2015,1,1))"
   ]
  },
  {
   "cell_type": "code",
   "execution_count": 17,
   "id": "a8250d21",
   "metadata": {},
   "outputs": [
    {
     "data": {
      "text/plain": [
       "Timestamp('2000-02-03 21:35:22')"
      ]
     },
     "execution_count": 17,
     "metadata": {},
     "output_type": "execute_result"
    }
   ],
   "source": [
    "pd.Timestamp(dt.datetime(2000,2,3,21,35,22))"
   ]
  },
  {
   "cell_type": "markdown",
   "id": "9c8c7575",
   "metadata": {},
   "source": [
    "## The `pandas DatetimeIndex` Object"
   ]
  },
  {
   "cell_type": "code",
   "execution_count": 22,
   "id": "e5db2fff",
   "metadata": {},
   "outputs": [],
   "source": [
    "dates = [\"2015-4-3\",\"2016-4-6\",\"2019-7-9\"]\n",
    "dtindex = pd.DatetimeIndex(dates)\n",
    "# can also use python's datetime objects"
   ]
  },
  {
   "cell_type": "code",
   "execution_count": 23,
   "id": "91cda92f",
   "metadata": {},
   "outputs": [
    {
     "data": {
      "text/plain": [
       "2015-04-03    100\n",
       "2016-04-06    200\n",
       "2019-07-09    300\n",
       "dtype: int64"
      ]
     },
     "execution_count": 23,
     "metadata": {},
     "output_type": "execute_result"
    }
   ],
   "source": [
    "values = [100,200,300]\n",
    "pd.Series(data=values,index=dtindex)"
   ]
  },
  {
   "cell_type": "markdown",
   "id": "58767acb",
   "metadata": {},
   "source": [
    "## The `pd.to_datetime()` Method"
   ]
  },
  {
   "cell_type": "code",
   "execution_count": 28,
   "id": "3ec6aac9",
   "metadata": {},
   "outputs": [
    {
     "data": {
      "text/plain": [
       "DatetimeIndex(['2010-08-09', '2022-05-09', '2015-01-01', '1989-07-04'], dtype='datetime64[ns]', freq=None)"
      ]
     },
     "execution_count": 28,
     "metadata": {},
     "output_type": "execute_result"
    }
   ],
   "source": [
    "pd.to_datetime(\"2000-07-8\")\n",
    "pd.to_datetime(dt.datetime(2015,1,1,14,35,20))\n",
    "pd.to_datetime([\"2010/8/9\",\"2022-5-9\",\"2015\",\"July 4th,1989\"])"
   ]
  },
  {
   "cell_type": "code",
   "execution_count": 30,
   "id": "b0f9089e",
   "metadata": {},
   "outputs": [
    {
     "data": {
      "text/plain": [
       "0         2010/8/9\n",
       "1         2022-5-9\n",
       "2             2015\n",
       "3    July 4th,1989\n",
       "dtype: object"
      ]
     },
     "execution_count": 30,
     "metadata": {},
     "output_type": "execute_result"
    }
   ],
   "source": [
    "times = pd.Series([\"2010/8/9\",\"2022-5-9\",\"2015\",\"July 4th,1989\"])\n",
    "times"
   ]
  },
  {
   "cell_type": "code",
   "execution_count": 31,
   "id": "611dea83",
   "metadata": {},
   "outputs": [
    {
     "data": {
      "text/plain": [
       "0   2010-08-09\n",
       "1   2022-05-09\n",
       "2   2015-01-01\n",
       "3   1989-07-04\n",
       "dtype: datetime64[ns]"
      ]
     },
     "execution_count": 31,
     "metadata": {},
     "output_type": "execute_result"
    }
   ],
   "source": [
    "pd.to_datetime(times)"
   ]
  },
  {
   "cell_type": "code",
   "execution_count": 33,
   "id": "94381cbd",
   "metadata": {},
   "outputs": [
    {
     "data": {
      "text/plain": [
       "0    July 4th 1996\n",
       "1       10/04/1991\n",
       "2            Hello\n",
       "3       2015-02-31\n",
       "dtype: object"
      ]
     },
     "execution_count": 33,
     "metadata": {},
     "output_type": "execute_result"
    }
   ],
   "source": [
    "dates = pd.Series([\"July 4th 1996\",\"10/04/1991\",\"Hello\",\"2015-02-31\"])\n",
    "dates"
   ]
  },
  {
   "cell_type": "code",
   "execution_count": 35,
   "id": "f40a94ca",
   "metadata": {},
   "outputs": [
    {
     "data": {
      "text/plain": [
       "0   1996-07-04\n",
       "1   1991-10-04\n",
       "2          NaT\n",
       "3          NaT\n",
       "dtype: datetime64[ns]"
      ]
     },
     "execution_count": 35,
     "metadata": {},
     "output_type": "execute_result"
    }
   ],
   "source": [
    "pd.to_datetime(dates, errors = \"coerce\")"
   ]
  },
  {
   "cell_type": "code",
   "execution_count": 37,
   "id": "c50fae6c",
   "metadata": {},
   "outputs": [
    {
     "data": {
      "text/plain": [
       "DatetimeIndex(['2012-10-08 18:15:05', '2012-10-09 18:15:05',\n",
       "               '2012-10-10 18:15:05', '2012-10-11 18:15:05',\n",
       "               '2012-10-12 18:15:05'],\n",
       "              dtype='datetime64[ns]', freq=None)"
      ]
     },
     "execution_count": 37,
     "metadata": {},
     "output_type": "execute_result"
    }
   ],
   "source": [
    "pd.to_datetime([1349720105,1349806505,1349892905,1349979305,1350065705],unit = \"s\")"
   ]
  },
  {
   "cell_type": "markdown",
   "id": "54d1b0c4",
   "metadata": {},
   "source": [
    "## Create Range of Dates with the `pd.date_range()` Metohd, Part 1"
   ]
  },
  {
   "cell_type": "code",
   "execution_count": 41,
   "id": "9f0de51b",
   "metadata": {},
   "outputs": [],
   "source": [
    "times = pd.date_range(start=\"01-01-2016\",end=\"01-10-2016\",freq=\"1D\")"
   ]
  },
  {
   "cell_type": "code",
   "execution_count": 42,
   "id": "5f2687da",
   "metadata": {},
   "outputs": [
    {
     "data": {
      "text/plain": [
       "DatetimeIndex(['2016-01-01', '2016-01-03', '2016-01-05', '2016-01-07',\n",
       "               '2016-01-09'],\n",
       "              dtype='datetime64[ns]', freq='2D')"
      ]
     },
     "execution_count": 42,
     "metadata": {},
     "output_type": "execute_result"
    }
   ],
   "source": [
    "pd.date_range(start=\"01-01-2016\",end=\"01-10-2016\",freq=\"2D\")"
   ]
  },
  {
   "cell_type": "code",
   "execution_count": 43,
   "id": "8887b174",
   "metadata": {},
   "outputs": [
    {
     "data": {
      "text/plain": [
       "DatetimeIndex(['2016-01-01', '2016-01-04', '2016-01-05', '2016-01-06',\n",
       "               '2016-01-07', '2016-01-08'],\n",
       "              dtype='datetime64[ns]', freq='B')"
      ]
     },
     "execution_count": 43,
     "metadata": {},
     "output_type": "execute_result"
    }
   ],
   "source": [
    "pd.date_range(start=\"01-01-2016\",end=\"01-10-2016\",freq=\"B\")\n",
    "# Business day"
   ]
  },
  {
   "cell_type": "code",
   "execution_count": 46,
   "id": "ed6ec088",
   "metadata": {},
   "outputs": [
    {
     "data": {
      "text/plain": [
       "DatetimeIndex(['2016-01-01', '2016-01-08', '2016-01-15'], dtype='datetime64[ns]', freq='W-FRI')"
      ]
     },
     "execution_count": 46,
     "metadata": {},
     "output_type": "execute_result"
    }
   ],
   "source": [
    "pd.date_range(start=\"01-01-2016\",end=\"01-15-2016\",freq=\"W-FRI\")"
   ]
  },
  {
   "cell_type": "code",
   "execution_count": 48,
   "id": "49a88e33",
   "metadata": {},
   "outputs": [
    {
     "data": {
      "text/plain": [
       "DatetimeIndex(['2016-01-01 00:00:00', '2016-01-01 06:00:00',\n",
       "               '2016-01-01 12:00:00', '2016-01-01 18:00:00',\n",
       "               '2016-01-02 00:00:00', '2016-01-02 06:00:00',\n",
       "               '2016-01-02 12:00:00', '2016-01-02 18:00:00',\n",
       "               '2016-01-03 00:00:00', '2016-01-03 06:00:00',\n",
       "               '2016-01-03 12:00:00', '2016-01-03 18:00:00',\n",
       "               '2016-01-04 00:00:00', '2016-01-04 06:00:00',\n",
       "               '2016-01-04 12:00:00', '2016-01-04 18:00:00',\n",
       "               '2016-01-05 00:00:00', '2016-01-05 06:00:00',\n",
       "               '2016-01-05 12:00:00', '2016-01-05 18:00:00',\n",
       "               '2016-01-06 00:00:00', '2016-01-06 06:00:00',\n",
       "               '2016-01-06 12:00:00', '2016-01-06 18:00:00',\n",
       "               '2016-01-07 00:00:00', '2016-01-07 06:00:00',\n",
       "               '2016-01-07 12:00:00', '2016-01-07 18:00:00',\n",
       "               '2016-01-08 00:00:00', '2016-01-08 06:00:00',\n",
       "               '2016-01-08 12:00:00', '2016-01-08 18:00:00',\n",
       "               '2016-01-09 00:00:00', '2016-01-09 06:00:00',\n",
       "               '2016-01-09 12:00:00', '2016-01-09 18:00:00',\n",
       "               '2016-01-10 00:00:00'],\n",
       "              dtype='datetime64[ns]', freq='6H')"
      ]
     },
     "execution_count": 48,
     "metadata": {},
     "output_type": "execute_result"
    }
   ],
   "source": [
    "pd.date_range(start=\"01-01-2016\",end=\"01-10-2016\",freq=\"6H\")"
   ]
  },
  {
   "cell_type": "code",
   "execution_count": 50,
   "id": "ddbad0f7",
   "metadata": {},
   "outputs": [
    {
     "data": {
      "text/plain": [
       "DatetimeIndex(['2016-01-31'], dtype='datetime64[ns]', freq='M')"
      ]
     },
     "execution_count": 50,
     "metadata": {},
     "output_type": "execute_result"
    }
   ],
   "source": [
    "pd.date_range(start=\"01-01-2016\",end=\"02-10-2016\",freq=\"M\")\n",
    "## month end for month start MS"
   ]
  },
  {
   "cell_type": "code",
   "execution_count": 52,
   "id": "2e81f442",
   "metadata": {},
   "outputs": [
    {
     "data": {
      "text/plain": [
       "DatetimeIndex(['2016-12-31', '2017-12-31', '2018-12-31', '2019-12-31',\n",
       "               '2020-12-31', '2021-12-31', '2022-12-31', '2023-12-31',\n",
       "               '2024-12-31', '2025-12-31', '2026-12-31', '2027-12-31',\n",
       "               '2028-12-31', '2029-12-31', '2030-12-31', '2031-12-31',\n",
       "               '2032-12-31', '2033-12-31', '2034-12-31', '2035-12-31',\n",
       "               '2036-12-31', '2037-12-31', '2038-12-31', '2039-12-31',\n",
       "               '2040-12-31', '2041-12-31', '2042-12-31', '2043-12-31',\n",
       "               '2044-12-31', '2045-12-31', '2046-12-31', '2047-12-31',\n",
       "               '2048-12-31', '2049-12-31'],\n",
       "              dtype='datetime64[ns]', freq='A-DEC')"
      ]
     },
     "execution_count": 52,
     "metadata": {},
     "output_type": "execute_result"
    }
   ],
   "source": [
    "pd.date_range(start=\"01-01-2016\",end=\"01-10-2050\",freq=\"A\")\n",
    "# Last day of each year"
   ]
  },
  {
   "cell_type": "markdown",
   "id": "2251b6c1",
   "metadata": {},
   "source": [
    "## Create Range of Dates with the `pd.date_range()` Metohd, Part 2"
   ]
  },
  {
   "cell_type": "code",
   "execution_count": 60,
   "id": "71677487",
   "metadata": {
    "scrolled": true
   },
   "outputs": [
    {
     "data": {
      "text/plain": [
       "DatetimeIndex(['2012-09-09 00:00:00', '2012-09-09 06:00:00',\n",
       "               '2012-09-09 12:00:00', '2012-09-09 18:00:00',\n",
       "               '2012-09-10 00:00:00', '2012-09-10 06:00:00',\n",
       "               '2012-09-10 12:00:00', '2012-09-10 18:00:00',\n",
       "               '2012-09-11 00:00:00', '2012-09-11 06:00:00',\n",
       "               '2012-09-11 12:00:00', '2012-09-11 18:00:00',\n",
       "               '2012-09-12 00:00:00', '2012-09-12 06:00:00',\n",
       "               '2012-09-12 12:00:00', '2012-09-12 18:00:00',\n",
       "               '2012-09-13 00:00:00', '2012-09-13 06:00:00',\n",
       "               '2012-09-13 12:00:00', '2012-09-13 18:00:00',\n",
       "               '2012-09-14 00:00:00', '2012-09-14 06:00:00',\n",
       "               '2012-09-14 12:00:00', '2012-09-14 18:00:00',\n",
       "               '2012-09-15 00:00:00', '2012-09-15 06:00:00',\n",
       "               '2012-09-15 12:00:00', '2012-09-15 18:00:00',\n",
       "               '2012-09-16 00:00:00', '2012-09-16 06:00:00',\n",
       "               '2012-09-16 12:00:00', '2012-09-16 18:00:00',\n",
       "               '2012-09-17 00:00:00', '2012-09-17 06:00:00',\n",
       "               '2012-09-17 12:00:00', '2012-09-17 18:00:00',\n",
       "               '2012-09-18 00:00:00', '2012-09-18 06:00:00',\n",
       "               '2012-09-18 12:00:00', '2012-09-18 18:00:00',\n",
       "               '2012-09-19 00:00:00', '2012-09-19 06:00:00',\n",
       "               '2012-09-19 12:00:00', '2012-09-19 18:00:00',\n",
       "               '2012-09-20 00:00:00', '2012-09-20 06:00:00',\n",
       "               '2012-09-20 12:00:00', '2012-09-20 18:00:00',\n",
       "               '2012-09-21 00:00:00', '2012-09-21 06:00:00'],\n",
       "              dtype='datetime64[ns]', freq='6H')"
      ]
     },
     "execution_count": 60,
     "metadata": {},
     "output_type": "execute_result"
    }
   ],
   "source": [
    "pd.date_range(start=\"2012-09-09\", periods=50,freq=\"6H\")"
   ]
  },
  {
   "cell_type": "markdown",
   "id": "9de4ecb1",
   "metadata": {},
   "source": [
    "## Create Range of Dates with the `pd.date_range()` Metohd, Part 3"
   ]
  },
  {
   "cell_type": "code",
   "execution_count": 66,
   "id": "746692d7",
   "metadata": {
    "scrolled": false
   },
   "outputs": [
    {
     "data": {
      "text/plain": [
       "DatetimeIndex(['1999-04-02', '1999-04-09', '1999-04-16', '1999-04-23',\n",
       "               '1999-04-30', '1999-05-07', '1999-05-14', '1999-05-21',\n",
       "               '1999-05-28', '1999-06-04', '1999-06-11', '1999-06-18',\n",
       "               '1999-06-25', '1999-07-02', '1999-07-09', '1999-07-16',\n",
       "               '1999-07-23', '1999-07-30', '1999-08-06', '1999-08-13',\n",
       "               '1999-08-20', '1999-08-27', '1999-09-03', '1999-09-10',\n",
       "               '1999-09-17', '1999-09-24', '1999-10-01', '1999-10-08',\n",
       "               '1999-10-15', '1999-10-22', '1999-10-29', '1999-11-05',\n",
       "               '1999-11-12', '1999-11-19', '1999-11-26', '1999-12-03',\n",
       "               '1999-12-10', '1999-12-17', '1999-12-24', '1999-12-31'],\n",
       "              dtype='datetime64[ns]', freq='W-FRI')"
      ]
     },
     "execution_count": 66,
     "metadata": {},
     "output_type": "execute_result"
    }
   ],
   "source": [
    "pd.date_range(end=\"1999-12-31\", periods=40, freq=\"W-FRI\")"
   ]
  },
  {
   "cell_type": "markdown",
   "id": "94c4e5e8",
   "metadata": {},
   "source": [
    "## The `.dt` Accessor"
   ]
  },
  {
   "cell_type": "code",
   "execution_count": 67,
   "id": "03b7a8df",
   "metadata": {},
   "outputs": [],
   "source": [
    "bd = pd.date_range(start = \"2000-01-01\",end=\"2010-12-31\",freq=\"24D\")"
   ]
  },
  {
   "cell_type": "code",
   "execution_count": 69,
   "id": "492b3a3a",
   "metadata": {},
   "outputs": [
    {
     "data": {
      "text/plain": [
       "0     2000-01-01\n",
       "1     2000-01-25\n",
       "2     2000-02-18\n",
       "3     2000-03-13\n",
       "4     2000-04-06\n",
       "         ...    \n",
       "163   2010-09-17\n",
       "164   2010-10-11\n",
       "165   2010-11-04\n",
       "166   2010-11-28\n",
       "167   2010-12-22\n",
       "Length: 168, dtype: datetime64[ns]"
      ]
     },
     "execution_count": 69,
     "metadata": {},
     "output_type": "execute_result"
    }
   ],
   "source": [
    "s = pd.Series(bd)\n",
    "s"
   ]
  },
  {
   "cell_type": "code",
   "execution_count": 81,
   "id": "90597e4a",
   "metadata": {},
   "outputs": [
    {
     "data": {
      "text/plain": [
       "0     2000-01-01\n",
       "19    2001-04-01\n",
       "38    2002-07-01\n",
       "137   2009-01-01\n",
       "dtype: datetime64[ns]"
      ]
     },
     "execution_count": 81,
     "metadata": {},
     "output_type": "execute_result"
    }
   ],
   "source": [
    "s.dt.day\n",
    "s.dt.month\n",
    "mask = s.dt.is_quarter_start\n",
    "s[mask]"
   ]
  },
  {
   "cell_type": "markdown",
   "id": "5afd528a",
   "metadata": {},
   "source": [
    "## Importing Financial dataset with `pandas_datareader` Library"
   ]
  },
  {
   "cell_type": "code",
   "execution_count": 46,
   "id": "ab06581d",
   "metadata": {},
   "outputs": [],
   "source": [
    "stocks = data.DataReader(name=\"MSFT\", data_source=\"yahoo\",start =\"2010-01-01\",end =\"2020-12-31\")"
   ]
  },
  {
   "cell_type": "code",
   "execution_count": 9,
   "id": "bcc628c5",
   "metadata": {
    "scrolled": true
   },
   "outputs": [
    {
     "data": {
      "text/plain": [
       "DatetimeIndex(['2009-12-31', '2010-01-04', '2010-01-05', '2010-01-06',\n",
       "               '2010-01-07', '2010-01-08', '2010-01-11', '2010-01-12',\n",
       "               '2010-01-13', '2010-01-14',\n",
       "               ...\n",
       "               '2020-12-17', '2020-12-18', '2020-12-21', '2020-12-22',\n",
       "               '2020-12-23', '2020-12-24', '2020-12-28', '2020-12-29',\n",
       "               '2020-12-30', '2020-12-31'],\n",
       "              dtype='datetime64[ns]', name='Date', length=2770, freq=None)"
      ]
     },
     "execution_count": 9,
     "metadata": {},
     "output_type": "execute_result"
    }
   ],
   "source": [
    "stocks.index"
   ]
  },
  {
   "cell_type": "code",
   "execution_count": 13,
   "id": "58d433cd",
   "metadata": {},
   "outputs": [
    {
     "data": {
      "text/plain": [
       "High         2.604000e+01\n",
       "Low          2.573000e+01\n",
       "Open         2.591000e+01\n",
       "Close        2.603000e+01\n",
       "Volume       2.320580e+07\n",
       "Adj Close    2.097655e+01\n",
       "Name: 2011-12-23 00:00:00, dtype: float64"
      ]
     },
     "execution_count": 13,
     "metadata": {},
     "output_type": "execute_result"
    }
   ],
   "source": [
    "stocks.loc[pd.Timestamp(\"2010-01-04\")]\n",
    "stocks.iloc[500]"
   ]
  },
  {
   "cell_type": "code",
   "execution_count": 17,
   "id": "e9ccf967",
   "metadata": {},
   "outputs": [
    {
     "data": {
      "text/html": [
       "<div>\n",
       "<style scoped>\n",
       "    .dataframe tbody tr th:only-of-type {\n",
       "        vertical-align: middle;\n",
       "    }\n",
       "\n",
       "    .dataframe tbody tr th {\n",
       "        vertical-align: top;\n",
       "    }\n",
       "\n",
       "    .dataframe thead th {\n",
       "        text-align: right;\n",
       "    }\n",
       "</style>\n",
       "<table border=\"1\" class=\"dataframe\">\n",
       "  <thead>\n",
       "    <tr style=\"text-align: right;\">\n",
       "      <th></th>\n",
       "      <th>High</th>\n",
       "      <th>Low</th>\n",
       "      <th>Open</th>\n",
       "      <th>Close</th>\n",
       "      <th>Volume</th>\n",
       "      <th>Adj Close</th>\n",
       "    </tr>\n",
       "    <tr>\n",
       "      <th>Date</th>\n",
       "      <th></th>\n",
       "      <th></th>\n",
       "      <th></th>\n",
       "      <th></th>\n",
       "      <th></th>\n",
       "      <th></th>\n",
       "    </tr>\n",
       "  </thead>\n",
       "  <tbody>\n",
       "    <tr>\n",
       "      <th>2010-01-04</th>\n",
       "      <td>31.10</td>\n",
       "      <td>30.59</td>\n",
       "      <td>30.620001</td>\n",
       "      <td>30.950001</td>\n",
       "      <td>38409100.0</td>\n",
       "      <td>23.800226</td>\n",
       "    </tr>\n",
       "    <tr>\n",
       "      <th>2010-01-25</th>\n",
       "      <td>29.66</td>\n",
       "      <td>29.10</td>\n",
       "      <td>29.240000</td>\n",
       "      <td>29.320000</td>\n",
       "      <td>63373000.0</td>\n",
       "      <td>22.546774</td>\n",
       "    </tr>\n",
       "  </tbody>\n",
       "</table>\n",
       "</div>"
      ],
      "text/plain": [
       "             High    Low       Open      Close      Volume  Adj Close\n",
       "Date                                                                 \n",
       "2010-01-04  31.10  30.59  30.620001  30.950001  38409100.0  23.800226\n",
       "2010-01-25  29.66  29.10  29.240000  29.320000  63373000.0  22.546774"
      ]
     },
     "execution_count": 17,
     "metadata": {},
     "output_type": "execute_result"
    }
   ],
   "source": [
    "stocks.loc[[pd.Timestamp(\"2010-01-04\"),pd.Timestamp(\"2010-01-25\")]]"
   ]
  },
  {
   "cell_type": "code",
   "execution_count": 20,
   "id": "49ddb2c2",
   "metadata": {},
   "outputs": [
    {
     "data": {
      "text/html": [
       "<div>\n",
       "<style scoped>\n",
       "    .dataframe tbody tr th:only-of-type {\n",
       "        vertical-align: middle;\n",
       "    }\n",
       "\n",
       "    .dataframe tbody tr th {\n",
       "        vertical-align: top;\n",
       "    }\n",
       "\n",
       "    .dataframe thead th {\n",
       "        text-align: right;\n",
       "    }\n",
       "</style>\n",
       "<table border=\"1\" class=\"dataframe\">\n",
       "  <thead>\n",
       "    <tr style=\"text-align: right;\">\n",
       "      <th></th>\n",
       "      <th>High</th>\n",
       "      <th>Low</th>\n",
       "      <th>Open</th>\n",
       "      <th>Close</th>\n",
       "      <th>Volume</th>\n",
       "      <th>Adj Close</th>\n",
       "    </tr>\n",
       "    <tr>\n",
       "      <th>Date</th>\n",
       "      <th></th>\n",
       "      <th></th>\n",
       "      <th></th>\n",
       "      <th></th>\n",
       "      <th></th>\n",
       "      <th></th>\n",
       "    </tr>\n",
       "  </thead>\n",
       "  <tbody>\n",
       "    <tr>\n",
       "      <th>2010-01-04</th>\n",
       "      <td>31.100000</td>\n",
       "      <td>30.590000</td>\n",
       "      <td>30.620001</td>\n",
       "      <td>30.950001</td>\n",
       "      <td>38409100.0</td>\n",
       "      <td>23.800226</td>\n",
       "    </tr>\n",
       "    <tr>\n",
       "      <th>2010-01-05</th>\n",
       "      <td>31.100000</td>\n",
       "      <td>30.639999</td>\n",
       "      <td>30.850000</td>\n",
       "      <td>30.959999</td>\n",
       "      <td>49749600.0</td>\n",
       "      <td>23.807915</td>\n",
       "    </tr>\n",
       "    <tr>\n",
       "      <th>2010-01-06</th>\n",
       "      <td>31.080000</td>\n",
       "      <td>30.520000</td>\n",
       "      <td>30.879999</td>\n",
       "      <td>30.770000</td>\n",
       "      <td>58182400.0</td>\n",
       "      <td>23.661804</td>\n",
       "    </tr>\n",
       "    <tr>\n",
       "      <th>2010-01-07</th>\n",
       "      <td>30.700001</td>\n",
       "      <td>30.190001</td>\n",
       "      <td>30.629999</td>\n",
       "      <td>30.450001</td>\n",
       "      <td>50559700.0</td>\n",
       "      <td>23.415726</td>\n",
       "    </tr>\n",
       "    <tr>\n",
       "      <th>2010-01-08</th>\n",
       "      <td>30.879999</td>\n",
       "      <td>30.240000</td>\n",
       "      <td>30.280001</td>\n",
       "      <td>30.660000</td>\n",
       "      <td>51197400.0</td>\n",
       "      <td>23.577215</td>\n",
       "    </tr>\n",
       "    <tr>\n",
       "      <th>...</th>\n",
       "      <td>...</td>\n",
       "      <td>...</td>\n",
       "      <td>...</td>\n",
       "      <td>...</td>\n",
       "      <td>...</td>\n",
       "      <td>...</td>\n",
       "    </tr>\n",
       "    <tr>\n",
       "      <th>2012-12-24</th>\n",
       "      <td>27.250000</td>\n",
       "      <td>27.000000</td>\n",
       "      <td>27.200001</td>\n",
       "      <td>27.059999</td>\n",
       "      <td>20842400.0</td>\n",
       "      <td>22.423300</td>\n",
       "    </tr>\n",
       "    <tr>\n",
       "      <th>2012-12-26</th>\n",
       "      <td>27.200001</td>\n",
       "      <td>26.700001</td>\n",
       "      <td>27.030001</td>\n",
       "      <td>26.860001</td>\n",
       "      <td>31631100.0</td>\n",
       "      <td>22.257570</td>\n",
       "    </tr>\n",
       "    <tr>\n",
       "      <th>2012-12-27</th>\n",
       "      <td>27.090000</td>\n",
       "      <td>26.570000</td>\n",
       "      <td>26.889999</td>\n",
       "      <td>26.959999</td>\n",
       "      <td>39394000.0</td>\n",
       "      <td>22.340431</td>\n",
       "    </tr>\n",
       "    <tr>\n",
       "      <th>2012-12-28</th>\n",
       "      <td>26.900000</td>\n",
       "      <td>26.549999</td>\n",
       "      <td>26.709999</td>\n",
       "      <td>26.549999</td>\n",
       "      <td>28239900.0</td>\n",
       "      <td>22.000689</td>\n",
       "    </tr>\n",
       "    <tr>\n",
       "      <th>2012-12-31</th>\n",
       "      <td>26.770000</td>\n",
       "      <td>26.370001</td>\n",
       "      <td>26.590000</td>\n",
       "      <td>26.709999</td>\n",
       "      <td>42749500.0</td>\n",
       "      <td>22.133272</td>\n",
       "    </tr>\n",
       "  </tbody>\n",
       "</table>\n",
       "<p>754 rows × 6 columns</p>\n",
       "</div>"
      ],
      "text/plain": [
       "                 High        Low       Open      Close      Volume  Adj Close\n",
       "Date                                                                         \n",
       "2010-01-04  31.100000  30.590000  30.620001  30.950001  38409100.0  23.800226\n",
       "2010-01-05  31.100000  30.639999  30.850000  30.959999  49749600.0  23.807915\n",
       "2010-01-06  31.080000  30.520000  30.879999  30.770000  58182400.0  23.661804\n",
       "2010-01-07  30.700001  30.190001  30.629999  30.450001  50559700.0  23.415726\n",
       "2010-01-08  30.879999  30.240000  30.280001  30.660000  51197400.0  23.577215\n",
       "...               ...        ...        ...        ...         ...        ...\n",
       "2012-12-24  27.250000  27.000000  27.200001  27.059999  20842400.0  22.423300\n",
       "2012-12-26  27.200001  26.700001  27.030001  26.860001  31631100.0  22.257570\n",
       "2012-12-27  27.090000  26.570000  26.889999  26.959999  39394000.0  22.340431\n",
       "2012-12-28  26.900000  26.549999  26.709999  26.549999  28239900.0  22.000689\n",
       "2012-12-31  26.770000  26.370001  26.590000  26.709999  42749500.0  22.133272\n",
       "\n",
       "[754 rows x 6 columns]"
      ]
     },
     "execution_count": 20,
     "metadata": {},
     "output_type": "execute_result"
    }
   ],
   "source": [
    "stocks.loc[pd.Timestamp(\"2010-01-04\"):pd.Timestamp(\"2010-01-10\")]\n",
    "stocks.truncate(before = \"2010-01-04\",after = \"2013-01-01\")"
   ]
  },
  {
   "cell_type": "code",
   "execution_count": 23,
   "id": "c643cfec",
   "metadata": {},
   "outputs": [],
   "source": [
    "bday = pd.date_range(start=\"2000-08-07\",end=\"2022-06-09\",freq=pd.DateOffset(years = 1))"
   ]
  },
  {
   "cell_type": "code",
   "execution_count": 25,
   "id": "89c39c6d",
   "metadata": {},
   "outputs": [],
   "source": [
    "bstock = stocks.index.isin(bday)"
   ]
  },
  {
   "cell_type": "code",
   "execution_count": 27,
   "id": "8cae9e50",
   "metadata": {},
   "outputs": [
    {
     "data": {
      "text/html": [
       "<div>\n",
       "<style scoped>\n",
       "    .dataframe tbody tr th:only-of-type {\n",
       "        vertical-align: middle;\n",
       "    }\n",
       "\n",
       "    .dataframe tbody tr th {\n",
       "        vertical-align: top;\n",
       "    }\n",
       "\n",
       "    .dataframe thead th {\n",
       "        text-align: right;\n",
       "    }\n",
       "</style>\n",
       "<table border=\"1\" class=\"dataframe\">\n",
       "  <thead>\n",
       "    <tr style=\"text-align: right;\">\n",
       "      <th></th>\n",
       "      <th>High</th>\n",
       "      <th>Low</th>\n",
       "      <th>Open</th>\n",
       "      <th>Close</th>\n",
       "      <th>Volume</th>\n",
       "      <th>Adj Close</th>\n",
       "    </tr>\n",
       "    <tr>\n",
       "      <th>Date</th>\n",
       "      <th></th>\n",
       "      <th></th>\n",
       "      <th></th>\n",
       "      <th></th>\n",
       "      <th></th>\n",
       "      <th></th>\n",
       "    </tr>\n",
       "  </thead>\n",
       "  <tbody>\n",
       "    <tr>\n",
       "      <th>2012-08-07</th>\n",
       "      <td>30.350000</td>\n",
       "      <td>29.870001</td>\n",
       "      <td>30.070000</td>\n",
       "      <td>30.260000</td>\n",
       "      <td>28002900.0</td>\n",
       "      <td>24.706940</td>\n",
       "    </tr>\n",
       "    <tr>\n",
       "      <th>2013-08-07</th>\n",
       "      <td>32.099998</td>\n",
       "      <td>31.250000</td>\n",
       "      <td>31.540001</td>\n",
       "      <td>32.060001</td>\n",
       "      <td>38078600.0</td>\n",
       "      <td>26.974346</td>\n",
       "    </tr>\n",
       "    <tr>\n",
       "      <th>2014-08-07</th>\n",
       "      <td>43.450001</td>\n",
       "      <td>42.650002</td>\n",
       "      <td>42.840000</td>\n",
       "      <td>43.230000</td>\n",
       "      <td>30314900.0</td>\n",
       "      <td>37.445610</td>\n",
       "    </tr>\n",
       "    <tr>\n",
       "      <th>2015-08-07</th>\n",
       "      <td>46.779999</td>\n",
       "      <td>46.259998</td>\n",
       "      <td>46.389999</td>\n",
       "      <td>46.740002</td>\n",
       "      <td>19163000.0</td>\n",
       "      <td>41.555847</td>\n",
       "    </tr>\n",
       "    <tr>\n",
       "      <th>2017-08-07</th>\n",
       "      <td>72.900002</td>\n",
       "      <td>72.260002</td>\n",
       "      <td>72.800003</td>\n",
       "      <td>72.400002</td>\n",
       "      <td>18705700.0</td>\n",
       "      <td>67.813728</td>\n",
       "    </tr>\n",
       "    <tr>\n",
       "      <th>2018-08-07</th>\n",
       "      <td>109.099998</td>\n",
       "      <td>108.169998</td>\n",
       "      <td>108.559998</td>\n",
       "      <td>108.879997</td>\n",
       "      <td>16080200.0</td>\n",
       "      <td>103.973885</td>\n",
       "    </tr>\n",
       "    <tr>\n",
       "      <th>2019-08-07</th>\n",
       "      <td>135.649994</td>\n",
       "      <td>131.830002</td>\n",
       "      <td>133.789993</td>\n",
       "      <td>135.279999</td>\n",
       "      <td>33414500.0</td>\n",
       "      <td>131.282043</td>\n",
       "    </tr>\n",
       "    <tr>\n",
       "      <th>2020-08-07</th>\n",
       "      <td>215.699997</td>\n",
       "      <td>210.929993</td>\n",
       "      <td>214.850006</td>\n",
       "      <td>212.479996</td>\n",
       "      <td>27820400.0</td>\n",
       "      <td>208.737915</td>\n",
       "    </tr>\n",
       "  </tbody>\n",
       "</table>\n",
       "</div>"
      ],
      "text/plain": [
       "                  High         Low        Open       Close      Volume  \\\n",
       "Date                                                                     \n",
       "2012-08-07   30.350000   29.870001   30.070000   30.260000  28002900.0   \n",
       "2013-08-07   32.099998   31.250000   31.540001   32.060001  38078600.0   \n",
       "2014-08-07   43.450001   42.650002   42.840000   43.230000  30314900.0   \n",
       "2015-08-07   46.779999   46.259998   46.389999   46.740002  19163000.0   \n",
       "2017-08-07   72.900002   72.260002   72.800003   72.400002  18705700.0   \n",
       "2018-08-07  109.099998  108.169998  108.559998  108.879997  16080200.0   \n",
       "2019-08-07  135.649994  131.830002  133.789993  135.279999  33414500.0   \n",
       "2020-08-07  215.699997  210.929993  214.850006  212.479996  27820400.0   \n",
       "\n",
       "             Adj Close  \n",
       "Date                    \n",
       "2012-08-07   24.706940  \n",
       "2013-08-07   26.974346  \n",
       "2014-08-07   37.445610  \n",
       "2015-08-07   41.555847  \n",
       "2017-08-07   67.813728  \n",
       "2018-08-07  103.973885  \n",
       "2019-08-07  131.282043  \n",
       "2020-08-07  208.737915  "
      ]
     },
     "execution_count": 27,
     "metadata": {},
     "output_type": "execute_result"
    }
   ],
   "source": [
    "stocks[bstock]"
   ]
  },
  {
   "cell_type": "markdown",
   "id": "9a58cb29",
   "metadata": {},
   "source": [
    "## `Timestamp` Object Attributes and Methods"
   ]
  },
  {
   "cell_type": "code",
   "execution_count": 28,
   "id": "cbf630aa",
   "metadata": {},
   "outputs": [
    {
     "data": {
      "text/html": [
       "<div>\n",
       "<style scoped>\n",
       "    .dataframe tbody tr th:only-of-type {\n",
       "        vertical-align: middle;\n",
       "    }\n",
       "\n",
       "    .dataframe tbody tr th {\n",
       "        vertical-align: top;\n",
       "    }\n",
       "\n",
       "    .dataframe thead th {\n",
       "        text-align: right;\n",
       "    }\n",
       "</style>\n",
       "<table border=\"1\" class=\"dataframe\">\n",
       "  <thead>\n",
       "    <tr style=\"text-align: right;\">\n",
       "      <th></th>\n",
       "      <th>High</th>\n",
       "      <th>Low</th>\n",
       "      <th>Open</th>\n",
       "      <th>Close</th>\n",
       "      <th>Volume</th>\n",
       "      <th>Adj Close</th>\n",
       "    </tr>\n",
       "    <tr>\n",
       "      <th>Date</th>\n",
       "      <th></th>\n",
       "      <th></th>\n",
       "      <th></th>\n",
       "      <th></th>\n",
       "      <th></th>\n",
       "      <th></th>\n",
       "    </tr>\n",
       "  </thead>\n",
       "  <tbody>\n",
       "    <tr>\n",
       "      <th>2009-12-31</th>\n",
       "      <td>30.99</td>\n",
       "      <td>30.480000</td>\n",
       "      <td>30.980000</td>\n",
       "      <td>30.480000</td>\n",
       "      <td>31929700.0</td>\n",
       "      <td>23.438801</td>\n",
       "    </tr>\n",
       "    <tr>\n",
       "      <th>2010-01-04</th>\n",
       "      <td>31.10</td>\n",
       "      <td>30.590000</td>\n",
       "      <td>30.620001</td>\n",
       "      <td>30.950001</td>\n",
       "      <td>38409100.0</td>\n",
       "      <td>23.800226</td>\n",
       "    </tr>\n",
       "    <tr>\n",
       "      <th>2010-01-05</th>\n",
       "      <td>31.10</td>\n",
       "      <td>30.639999</td>\n",
       "      <td>30.850000</td>\n",
       "      <td>30.959999</td>\n",
       "      <td>49749600.0</td>\n",
       "      <td>23.807915</td>\n",
       "    </tr>\n",
       "  </tbody>\n",
       "</table>\n",
       "</div>"
      ],
      "text/plain": [
       "             High        Low       Open      Close      Volume  Adj Close\n",
       "Date                                                                     \n",
       "2009-12-31  30.99  30.480000  30.980000  30.480000  31929700.0  23.438801\n",
       "2010-01-04  31.10  30.590000  30.620001  30.950001  38409100.0  23.800226\n",
       "2010-01-05  31.10  30.639999  30.850000  30.959999  49749600.0  23.807915"
      ]
     },
     "execution_count": 28,
     "metadata": {},
     "output_type": "execute_result"
    }
   ],
   "source": [
    "stocks.head(3)"
   ]
  },
  {
   "cell_type": "code",
   "execution_count": 30,
   "id": "2763e123",
   "metadata": {},
   "outputs": [],
   "source": [
    "sday = stocks.index[500]"
   ]
  },
  {
   "cell_type": "code",
   "execution_count": 35,
   "id": "ee30483c",
   "metadata": {},
   "outputs": [
    {
     "data": {
      "text/plain": [
       "23"
      ]
     },
     "execution_count": 35,
     "metadata": {},
     "output_type": "execute_result"
    }
   ],
   "source": [
    "sday.month\n",
    "sday.week\n",
    "sday.is_month_end\n",
    "sday.day"
   ]
  },
  {
   "cell_type": "code",
   "execution_count": 37,
   "id": "730cac35",
   "metadata": {},
   "outputs": [
    {
     "data": {
      "text/plain": [
       "'Friday'"
      ]
     },
     "execution_count": 37,
     "metadata": {},
     "output_type": "execute_result"
    }
   ],
   "source": [
    "sday.month_name()\n",
    "sday.day_name()"
   ]
  },
  {
   "cell_type": "code",
   "execution_count": 39,
   "id": "48f26948",
   "metadata": {},
   "outputs": [
    {
     "data": {
      "text/plain": [
       "Index(['Thursday', 'Monday', 'Tuesday', 'Wednesday', 'Thursday', 'Friday',\n",
       "       'Monday', 'Tuesday', 'Wednesday', 'Thursday',\n",
       "       ...\n",
       "       'Thursday', 'Friday', 'Monday', 'Tuesday', 'Wednesday', 'Thursday',\n",
       "       'Monday', 'Tuesday', 'Wednesday', 'Thursday'],\n",
       "      dtype='object', name='Date', length=2770)"
      ]
     },
     "execution_count": 39,
     "metadata": {},
     "output_type": "execute_result"
    }
   ],
   "source": [
    "stocks.index.day_name()"
   ]
  },
  {
   "cell_type": "code",
   "execution_count": 47,
   "id": "077eac05",
   "metadata": {},
   "outputs": [],
   "source": [
    "stocks.insert(0,\"Day of week\",stocks.index.day_name())"
   ]
  },
  {
   "cell_type": "code",
   "execution_count": 48,
   "id": "b9a5d72c",
   "metadata": {},
   "outputs": [
    {
     "data": {
      "text/html": [
       "<div>\n",
       "<style scoped>\n",
       "    .dataframe tbody tr th:only-of-type {\n",
       "        vertical-align: middle;\n",
       "    }\n",
       "\n",
       "    .dataframe tbody tr th {\n",
       "        vertical-align: top;\n",
       "    }\n",
       "\n",
       "    .dataframe thead th {\n",
       "        text-align: right;\n",
       "    }\n",
       "</style>\n",
       "<table border=\"1\" class=\"dataframe\">\n",
       "  <thead>\n",
       "    <tr style=\"text-align: right;\">\n",
       "      <th></th>\n",
       "      <th>Day of week</th>\n",
       "      <th>High</th>\n",
       "      <th>Low</th>\n",
       "      <th>Open</th>\n",
       "      <th>Close</th>\n",
       "      <th>Volume</th>\n",
       "      <th>Adj Close</th>\n",
       "    </tr>\n",
       "    <tr>\n",
       "      <th>Date</th>\n",
       "      <th></th>\n",
       "      <th></th>\n",
       "      <th></th>\n",
       "      <th></th>\n",
       "      <th></th>\n",
       "      <th></th>\n",
       "      <th></th>\n",
       "    </tr>\n",
       "  </thead>\n",
       "  <tbody>\n",
       "    <tr>\n",
       "      <th>2009-12-31</th>\n",
       "      <td>Thursday</td>\n",
       "      <td>30.990000</td>\n",
       "      <td>30.480000</td>\n",
       "      <td>30.980000</td>\n",
       "      <td>30.480000</td>\n",
       "      <td>31929700.0</td>\n",
       "      <td>23.438799</td>\n",
       "    </tr>\n",
       "    <tr>\n",
       "      <th>2010-01-04</th>\n",
       "      <td>Monday</td>\n",
       "      <td>31.100000</td>\n",
       "      <td>30.590000</td>\n",
       "      <td>30.620001</td>\n",
       "      <td>30.950001</td>\n",
       "      <td>38409100.0</td>\n",
       "      <td>23.800222</td>\n",
       "    </tr>\n",
       "    <tr>\n",
       "      <th>2010-01-05</th>\n",
       "      <td>Tuesday</td>\n",
       "      <td>31.100000</td>\n",
       "      <td>30.639999</td>\n",
       "      <td>30.850000</td>\n",
       "      <td>30.959999</td>\n",
       "      <td>49749600.0</td>\n",
       "      <td>23.807917</td>\n",
       "    </tr>\n",
       "    <tr>\n",
       "      <th>2010-01-06</th>\n",
       "      <td>Wednesday</td>\n",
       "      <td>31.080000</td>\n",
       "      <td>30.520000</td>\n",
       "      <td>30.879999</td>\n",
       "      <td>30.770000</td>\n",
       "      <td>58182400.0</td>\n",
       "      <td>23.661806</td>\n",
       "    </tr>\n",
       "    <tr>\n",
       "      <th>2010-01-07</th>\n",
       "      <td>Thursday</td>\n",
       "      <td>30.700001</td>\n",
       "      <td>30.190001</td>\n",
       "      <td>30.629999</td>\n",
       "      <td>30.450001</td>\n",
       "      <td>50559700.0</td>\n",
       "      <td>23.415735</td>\n",
       "    </tr>\n",
       "    <tr>\n",
       "      <th>...</th>\n",
       "      <td>...</td>\n",
       "      <td>...</td>\n",
       "      <td>...</td>\n",
       "      <td>...</td>\n",
       "      <td>...</td>\n",
       "      <td>...</td>\n",
       "      <td>...</td>\n",
       "    </tr>\n",
       "    <tr>\n",
       "      <th>2020-12-24</th>\n",
       "      <td>Thursday</td>\n",
       "      <td>223.610001</td>\n",
       "      <td>221.199997</td>\n",
       "      <td>221.419998</td>\n",
       "      <td>222.750000</td>\n",
       "      <td>10550600.0</td>\n",
       "      <td>219.930313</td>\n",
       "    </tr>\n",
       "    <tr>\n",
       "      <th>2020-12-28</th>\n",
       "      <td>Monday</td>\n",
       "      <td>226.029999</td>\n",
       "      <td>223.020004</td>\n",
       "      <td>224.449997</td>\n",
       "      <td>224.960007</td>\n",
       "      <td>17933500.0</td>\n",
       "      <td>222.112335</td>\n",
       "    </tr>\n",
       "    <tr>\n",
       "      <th>2020-12-29</th>\n",
       "      <td>Tuesday</td>\n",
       "      <td>227.179993</td>\n",
       "      <td>223.580002</td>\n",
       "      <td>226.309998</td>\n",
       "      <td>224.149994</td>\n",
       "      <td>17403200.0</td>\n",
       "      <td>221.312592</td>\n",
       "    </tr>\n",
       "    <tr>\n",
       "      <th>2020-12-30</th>\n",
       "      <td>Wednesday</td>\n",
       "      <td>225.630005</td>\n",
       "      <td>221.470001</td>\n",
       "      <td>225.229996</td>\n",
       "      <td>221.679993</td>\n",
       "      <td>20272300.0</td>\n",
       "      <td>218.873825</td>\n",
       "    </tr>\n",
       "    <tr>\n",
       "      <th>2020-12-31</th>\n",
       "      <td>Thursday</td>\n",
       "      <td>223.000000</td>\n",
       "      <td>219.679993</td>\n",
       "      <td>221.699997</td>\n",
       "      <td>222.419998</td>\n",
       "      <td>20942100.0</td>\n",
       "      <td>219.604492</td>\n",
       "    </tr>\n",
       "  </tbody>\n",
       "</table>\n",
       "<p>2770 rows × 7 columns</p>\n",
       "</div>"
      ],
      "text/plain": [
       "           Day of week        High         Low        Open       Close  \\\n",
       "Date                                                                     \n",
       "2009-12-31    Thursday   30.990000   30.480000   30.980000   30.480000   \n",
       "2010-01-04      Monday   31.100000   30.590000   30.620001   30.950001   \n",
       "2010-01-05     Tuesday   31.100000   30.639999   30.850000   30.959999   \n",
       "2010-01-06   Wednesday   31.080000   30.520000   30.879999   30.770000   \n",
       "2010-01-07    Thursday   30.700001   30.190001   30.629999   30.450001   \n",
       "...                ...         ...         ...         ...         ...   \n",
       "2020-12-24    Thursday  223.610001  221.199997  221.419998  222.750000   \n",
       "2020-12-28      Monday  226.029999  223.020004  224.449997  224.960007   \n",
       "2020-12-29     Tuesday  227.179993  223.580002  226.309998  224.149994   \n",
       "2020-12-30   Wednesday  225.630005  221.470001  225.229996  221.679993   \n",
       "2020-12-31    Thursday  223.000000  219.679993  221.699997  222.419998   \n",
       "\n",
       "                Volume   Adj Close  \n",
       "Date                                \n",
       "2009-12-31  31929700.0   23.438799  \n",
       "2010-01-04  38409100.0   23.800222  \n",
       "2010-01-05  49749600.0   23.807917  \n",
       "2010-01-06  58182400.0   23.661806  \n",
       "2010-01-07  50559700.0   23.415735  \n",
       "...                ...         ...  \n",
       "2020-12-24  10550600.0  219.930313  \n",
       "2020-12-28  17933500.0  222.112335  \n",
       "2020-12-29  17403200.0  221.312592  \n",
       "2020-12-30  20272300.0  218.873825  \n",
       "2020-12-31  20942100.0  219.604492  \n",
       "\n",
       "[2770 rows x 7 columns]"
      ]
     },
     "execution_count": 48,
     "metadata": {},
     "output_type": "execute_result"
    }
   ],
   "source": [
    "stocks"
   ]
  },
  {
   "cell_type": "code",
   "execution_count": 49,
   "id": "dfa9a9a8",
   "metadata": {},
   "outputs": [],
   "source": [
    "stocks.insert(1,\" IS start of month\",stocks.index.is_month_start)"
   ]
  },
  {
   "cell_type": "code",
   "execution_count": 50,
   "id": "b991a575",
   "metadata": {},
   "outputs": [
    {
     "data": {
      "text/html": [
       "<div>\n",
       "<style scoped>\n",
       "    .dataframe tbody tr th:only-of-type {\n",
       "        vertical-align: middle;\n",
       "    }\n",
       "\n",
       "    .dataframe tbody tr th {\n",
       "        vertical-align: top;\n",
       "    }\n",
       "\n",
       "    .dataframe thead th {\n",
       "        text-align: right;\n",
       "    }\n",
       "</style>\n",
       "<table border=\"1\" class=\"dataframe\">\n",
       "  <thead>\n",
       "    <tr style=\"text-align: right;\">\n",
       "      <th></th>\n",
       "      <th>Day of week</th>\n",
       "      <th>IS start of month</th>\n",
       "      <th>High</th>\n",
       "      <th>Low</th>\n",
       "      <th>Open</th>\n",
       "      <th>Close</th>\n",
       "      <th>Volume</th>\n",
       "      <th>Adj Close</th>\n",
       "    </tr>\n",
       "    <tr>\n",
       "      <th>Date</th>\n",
       "      <th></th>\n",
       "      <th></th>\n",
       "      <th></th>\n",
       "      <th></th>\n",
       "      <th></th>\n",
       "      <th></th>\n",
       "      <th></th>\n",
       "      <th></th>\n",
       "    </tr>\n",
       "  </thead>\n",
       "  <tbody>\n",
       "    <tr>\n",
       "      <th>2009-12-31</th>\n",
       "      <td>Thursday</td>\n",
       "      <td>False</td>\n",
       "      <td>30.990000</td>\n",
       "      <td>30.480000</td>\n",
       "      <td>30.980000</td>\n",
       "      <td>30.480000</td>\n",
       "      <td>31929700.0</td>\n",
       "      <td>23.438799</td>\n",
       "    </tr>\n",
       "    <tr>\n",
       "      <th>2010-01-04</th>\n",
       "      <td>Monday</td>\n",
       "      <td>False</td>\n",
       "      <td>31.100000</td>\n",
       "      <td>30.590000</td>\n",
       "      <td>30.620001</td>\n",
       "      <td>30.950001</td>\n",
       "      <td>38409100.0</td>\n",
       "      <td>23.800222</td>\n",
       "    </tr>\n",
       "    <tr>\n",
       "      <th>2010-01-05</th>\n",
       "      <td>Tuesday</td>\n",
       "      <td>False</td>\n",
       "      <td>31.100000</td>\n",
       "      <td>30.639999</td>\n",
       "      <td>30.850000</td>\n",
       "      <td>30.959999</td>\n",
       "      <td>49749600.0</td>\n",
       "      <td>23.807917</td>\n",
       "    </tr>\n",
       "    <tr>\n",
       "      <th>2010-01-06</th>\n",
       "      <td>Wednesday</td>\n",
       "      <td>False</td>\n",
       "      <td>31.080000</td>\n",
       "      <td>30.520000</td>\n",
       "      <td>30.879999</td>\n",
       "      <td>30.770000</td>\n",
       "      <td>58182400.0</td>\n",
       "      <td>23.661806</td>\n",
       "    </tr>\n",
       "    <tr>\n",
       "      <th>2010-01-07</th>\n",
       "      <td>Thursday</td>\n",
       "      <td>False</td>\n",
       "      <td>30.700001</td>\n",
       "      <td>30.190001</td>\n",
       "      <td>30.629999</td>\n",
       "      <td>30.450001</td>\n",
       "      <td>50559700.0</td>\n",
       "      <td>23.415735</td>\n",
       "    </tr>\n",
       "    <tr>\n",
       "      <th>...</th>\n",
       "      <td>...</td>\n",
       "      <td>...</td>\n",
       "      <td>...</td>\n",
       "      <td>...</td>\n",
       "      <td>...</td>\n",
       "      <td>...</td>\n",
       "      <td>...</td>\n",
       "      <td>...</td>\n",
       "    </tr>\n",
       "    <tr>\n",
       "      <th>2020-12-24</th>\n",
       "      <td>Thursday</td>\n",
       "      <td>False</td>\n",
       "      <td>223.610001</td>\n",
       "      <td>221.199997</td>\n",
       "      <td>221.419998</td>\n",
       "      <td>222.750000</td>\n",
       "      <td>10550600.0</td>\n",
       "      <td>219.930313</td>\n",
       "    </tr>\n",
       "    <tr>\n",
       "      <th>2020-12-28</th>\n",
       "      <td>Monday</td>\n",
       "      <td>False</td>\n",
       "      <td>226.029999</td>\n",
       "      <td>223.020004</td>\n",
       "      <td>224.449997</td>\n",
       "      <td>224.960007</td>\n",
       "      <td>17933500.0</td>\n",
       "      <td>222.112335</td>\n",
       "    </tr>\n",
       "    <tr>\n",
       "      <th>2020-12-29</th>\n",
       "      <td>Tuesday</td>\n",
       "      <td>False</td>\n",
       "      <td>227.179993</td>\n",
       "      <td>223.580002</td>\n",
       "      <td>226.309998</td>\n",
       "      <td>224.149994</td>\n",
       "      <td>17403200.0</td>\n",
       "      <td>221.312592</td>\n",
       "    </tr>\n",
       "    <tr>\n",
       "      <th>2020-12-30</th>\n",
       "      <td>Wednesday</td>\n",
       "      <td>False</td>\n",
       "      <td>225.630005</td>\n",
       "      <td>221.470001</td>\n",
       "      <td>225.229996</td>\n",
       "      <td>221.679993</td>\n",
       "      <td>20272300.0</td>\n",
       "      <td>218.873825</td>\n",
       "    </tr>\n",
       "    <tr>\n",
       "      <th>2020-12-31</th>\n",
       "      <td>Thursday</td>\n",
       "      <td>False</td>\n",
       "      <td>223.000000</td>\n",
       "      <td>219.679993</td>\n",
       "      <td>221.699997</td>\n",
       "      <td>222.419998</td>\n",
       "      <td>20942100.0</td>\n",
       "      <td>219.604492</td>\n",
       "    </tr>\n",
       "  </tbody>\n",
       "</table>\n",
       "<p>2770 rows × 8 columns</p>\n",
       "</div>"
      ],
      "text/plain": [
       "           Day of week   IS start of month        High         Low  \\\n",
       "Date                                                                 \n",
       "2009-12-31    Thursday               False   30.990000   30.480000   \n",
       "2010-01-04      Monday               False   31.100000   30.590000   \n",
       "2010-01-05     Tuesday               False   31.100000   30.639999   \n",
       "2010-01-06   Wednesday               False   31.080000   30.520000   \n",
       "2010-01-07    Thursday               False   30.700001   30.190001   \n",
       "...                ...                 ...         ...         ...   \n",
       "2020-12-24    Thursday               False  223.610001  221.199997   \n",
       "2020-12-28      Monday               False  226.029999  223.020004   \n",
       "2020-12-29     Tuesday               False  227.179993  223.580002   \n",
       "2020-12-30   Wednesday               False  225.630005  221.470001   \n",
       "2020-12-31    Thursday               False  223.000000  219.679993   \n",
       "\n",
       "                  Open       Close      Volume   Adj Close  \n",
       "Date                                                        \n",
       "2009-12-31   30.980000   30.480000  31929700.0   23.438799  \n",
       "2010-01-04   30.620001   30.950001  38409100.0   23.800222  \n",
       "2010-01-05   30.850000   30.959999  49749600.0   23.807917  \n",
       "2010-01-06   30.879999   30.770000  58182400.0   23.661806  \n",
       "2010-01-07   30.629999   30.450001  50559700.0   23.415735  \n",
       "...                ...         ...         ...         ...  \n",
       "2020-12-24  221.419998  222.750000  10550600.0  219.930313  \n",
       "2020-12-28  224.449997  224.960007  17933500.0  222.112335  \n",
       "2020-12-29  226.309998  224.149994  17403200.0  221.312592  \n",
       "2020-12-30  225.229996  221.679993  20272300.0  218.873825  \n",
       "2020-12-31  221.699997  222.419998  20942100.0  219.604492  \n",
       "\n",
       "[2770 rows x 8 columns]"
      ]
     },
     "execution_count": 50,
     "metadata": {},
     "output_type": "execute_result"
    }
   ],
   "source": [
    "stocks"
   ]
  },
  {
   "cell_type": "code",
   "execution_count": null,
   "id": "6ce911da",
   "metadata": {},
   "outputs": [],
   "source": []
  },
  {
   "cell_type": "code",
   "execution_count": null,
   "id": "81c73aee",
   "metadata": {},
   "outputs": [],
   "source": []
  },
  {
   "cell_type": "code",
   "execution_count": null,
   "id": "50ea5047",
   "metadata": {},
   "outputs": [],
   "source": []
  },
  {
   "cell_type": "code",
   "execution_count": null,
   "id": "347e4c12",
   "metadata": {},
   "outputs": [],
   "source": []
  },
  {
   "cell_type": "code",
   "execution_count": null,
   "id": "7849f75c",
   "metadata": {},
   "outputs": [],
   "source": []
  },
  {
   "cell_type": "code",
   "execution_count": null,
   "id": "d615e4fe",
   "metadata": {},
   "outputs": [],
   "source": []
  },
  {
   "cell_type": "code",
   "execution_count": null,
   "id": "0beccc17",
   "metadata": {},
   "outputs": [],
   "source": []
  },
  {
   "cell_type": "code",
   "execution_count": null,
   "id": "18c5c791",
   "metadata": {},
   "outputs": [],
   "source": []
  },
  {
   "cell_type": "code",
   "execution_count": null,
   "id": "d4864b07",
   "metadata": {},
   "outputs": [],
   "source": []
  },
  {
   "cell_type": "code",
   "execution_count": null,
   "id": "2540499e",
   "metadata": {},
   "outputs": [],
   "source": []
  },
  {
   "cell_type": "code",
   "execution_count": null,
   "id": "6b64b1b7",
   "metadata": {},
   "outputs": [],
   "source": []
  },
  {
   "cell_type": "code",
   "execution_count": null,
   "id": "80b1b746",
   "metadata": {},
   "outputs": [],
   "source": []
  },
  {
   "cell_type": "code",
   "execution_count": null,
   "id": "9a67dced",
   "metadata": {},
   "outputs": [],
   "source": []
  },
  {
   "cell_type": "code",
   "execution_count": null,
   "id": "bbcf6a4a",
   "metadata": {},
   "outputs": [],
   "source": []
  },
  {
   "cell_type": "code",
   "execution_count": null,
   "id": "5074f214",
   "metadata": {},
   "outputs": [],
   "source": []
  },
  {
   "cell_type": "code",
   "execution_count": null,
   "id": "4ca1582f",
   "metadata": {},
   "outputs": [],
   "source": []
  },
  {
   "cell_type": "code",
   "execution_count": null,
   "id": "78c627b8",
   "metadata": {},
   "outputs": [],
   "source": []
  },
  {
   "cell_type": "code",
   "execution_count": null,
   "id": "210ccd7d",
   "metadata": {},
   "outputs": [],
   "source": []
  },
  {
   "cell_type": "code",
   "execution_count": null,
   "id": "fb9ca48a",
   "metadata": {},
   "outputs": [],
   "source": []
  },
  {
   "cell_type": "code",
   "execution_count": null,
   "id": "ac00554d",
   "metadata": {},
   "outputs": [],
   "source": []
  },
  {
   "cell_type": "code",
   "execution_count": null,
   "id": "87896f51",
   "metadata": {},
   "outputs": [],
   "source": []
  },
  {
   "cell_type": "code",
   "execution_count": null,
   "id": "4d6e1a5f",
   "metadata": {},
   "outputs": [],
   "source": []
  },
  {
   "cell_type": "code",
   "execution_count": null,
   "id": "c42c53ec",
   "metadata": {},
   "outputs": [],
   "source": []
  },
  {
   "cell_type": "code",
   "execution_count": null,
   "id": "8371a675",
   "metadata": {},
   "outputs": [],
   "source": []
  },
  {
   "cell_type": "code",
   "execution_count": null,
   "id": "210fe5e9",
   "metadata": {},
   "outputs": [],
   "source": []
  },
  {
   "cell_type": "code",
   "execution_count": null,
   "id": "6cb28918",
   "metadata": {},
   "outputs": [],
   "source": []
  },
  {
   "cell_type": "code",
   "execution_count": null,
   "id": "64e145fc",
   "metadata": {},
   "outputs": [],
   "source": []
  },
  {
   "cell_type": "code",
   "execution_count": null,
   "id": "bb95f416",
   "metadata": {},
   "outputs": [],
   "source": []
  },
  {
   "cell_type": "code",
   "execution_count": null,
   "id": "b71d9233",
   "metadata": {},
   "outputs": [],
   "source": []
  },
  {
   "cell_type": "code",
   "execution_count": null,
   "id": "670ad1e1",
   "metadata": {},
   "outputs": [],
   "source": []
  },
  {
   "cell_type": "code",
   "execution_count": null,
   "id": "6f49fa7f",
   "metadata": {},
   "outputs": [],
   "source": []
  },
  {
   "cell_type": "code",
   "execution_count": null,
   "id": "06d36a47",
   "metadata": {},
   "outputs": [],
   "source": []
  },
  {
   "cell_type": "code",
   "execution_count": null,
   "id": "81a3c30f",
   "metadata": {},
   "outputs": [],
   "source": []
  },
  {
   "cell_type": "code",
   "execution_count": null,
   "id": "a6a43a36",
   "metadata": {},
   "outputs": [],
   "source": []
  },
  {
   "cell_type": "code",
   "execution_count": null,
   "id": "768c983e",
   "metadata": {},
   "outputs": [],
   "source": []
  },
  {
   "cell_type": "code",
   "execution_count": null,
   "id": "4997bc3d",
   "metadata": {},
   "outputs": [],
   "source": []
  },
  {
   "cell_type": "code",
   "execution_count": null,
   "id": "dc0cc9e9",
   "metadata": {},
   "outputs": [],
   "source": []
  },
  {
   "cell_type": "code",
   "execution_count": null,
   "id": "936c5c6b",
   "metadata": {},
   "outputs": [],
   "source": []
  },
  {
   "cell_type": "code",
   "execution_count": null,
   "id": "f61a9eab",
   "metadata": {},
   "outputs": [],
   "source": []
  },
  {
   "cell_type": "code",
   "execution_count": null,
   "id": "4b9f7e54",
   "metadata": {},
   "outputs": [],
   "source": []
  },
  {
   "cell_type": "code",
   "execution_count": null,
   "id": "b0a78b64",
   "metadata": {},
   "outputs": [],
   "source": []
  },
  {
   "cell_type": "code",
   "execution_count": null,
   "id": "8ed14b51",
   "metadata": {},
   "outputs": [],
   "source": []
  },
  {
   "cell_type": "code",
   "execution_count": null,
   "id": "f115d97c",
   "metadata": {},
   "outputs": [],
   "source": []
  },
  {
   "cell_type": "code",
   "execution_count": null,
   "id": "131d6406",
   "metadata": {},
   "outputs": [],
   "source": []
  },
  {
   "cell_type": "code",
   "execution_count": null,
   "id": "9aeeb2f5",
   "metadata": {},
   "outputs": [],
   "source": []
  },
  {
   "cell_type": "code",
   "execution_count": null,
   "id": "25de69c1",
   "metadata": {},
   "outputs": [],
   "source": []
  },
  {
   "cell_type": "code",
   "execution_count": null,
   "id": "56282ae7",
   "metadata": {},
   "outputs": [],
   "source": []
  },
  {
   "cell_type": "code",
   "execution_count": null,
   "id": "42193ae9",
   "metadata": {},
   "outputs": [],
   "source": []
  },
  {
   "cell_type": "code",
   "execution_count": null,
   "id": "8428371f",
   "metadata": {},
   "outputs": [],
   "source": []
  },
  {
   "cell_type": "code",
   "execution_count": null,
   "id": "269b66e6",
   "metadata": {},
   "outputs": [],
   "source": []
  },
  {
   "cell_type": "code",
   "execution_count": null,
   "id": "68932940",
   "metadata": {},
   "outputs": [],
   "source": []
  },
  {
   "cell_type": "code",
   "execution_count": null,
   "id": "5958e0f9",
   "metadata": {},
   "outputs": [],
   "source": []
  },
  {
   "cell_type": "code",
   "execution_count": null,
   "id": "66ef823e",
   "metadata": {},
   "outputs": [],
   "source": []
  },
  {
   "cell_type": "code",
   "execution_count": null,
   "id": "208e599f",
   "metadata": {},
   "outputs": [],
   "source": []
  },
  {
   "cell_type": "code",
   "execution_count": null,
   "id": "0a6bc2b8",
   "metadata": {},
   "outputs": [],
   "source": []
  },
  {
   "cell_type": "code",
   "execution_count": null,
   "id": "2ea454fa",
   "metadata": {},
   "outputs": [],
   "source": []
  },
  {
   "cell_type": "code",
   "execution_count": null,
   "id": "19b92645",
   "metadata": {},
   "outputs": [],
   "source": []
  },
  {
   "cell_type": "code",
   "execution_count": null,
   "id": "c8b9469f",
   "metadata": {},
   "outputs": [],
   "source": []
  },
  {
   "cell_type": "code",
   "execution_count": null,
   "id": "655ea53f",
   "metadata": {},
   "outputs": [],
   "source": []
  },
  {
   "cell_type": "code",
   "execution_count": null,
   "id": "b751b096",
   "metadata": {},
   "outputs": [],
   "source": []
  },
  {
   "cell_type": "code",
   "execution_count": null,
   "id": "7f152a2c",
   "metadata": {},
   "outputs": [],
   "source": []
  },
  {
   "cell_type": "code",
   "execution_count": null,
   "id": "5c04ca6e",
   "metadata": {},
   "outputs": [],
   "source": []
  },
  {
   "cell_type": "code",
   "execution_count": null,
   "id": "e46a159a",
   "metadata": {},
   "outputs": [],
   "source": []
  },
  {
   "cell_type": "code",
   "execution_count": null,
   "id": "68dab7f5",
   "metadata": {},
   "outputs": [],
   "source": []
  },
  {
   "cell_type": "code",
   "execution_count": null,
   "id": "6145bda4",
   "metadata": {},
   "outputs": [],
   "source": []
  },
  {
   "cell_type": "code",
   "execution_count": null,
   "id": "557bd488",
   "metadata": {},
   "outputs": [],
   "source": []
  },
  {
   "cell_type": "code",
   "execution_count": null,
   "id": "fde0504a",
   "metadata": {},
   "outputs": [],
   "source": []
  },
  {
   "cell_type": "code",
   "execution_count": null,
   "id": "2f03d65e",
   "metadata": {},
   "outputs": [],
   "source": []
  },
  {
   "cell_type": "code",
   "execution_count": null,
   "id": "2fffefe9",
   "metadata": {},
   "outputs": [],
   "source": []
  },
  {
   "cell_type": "code",
   "execution_count": null,
   "id": "fc1551d6",
   "metadata": {},
   "outputs": [],
   "source": []
  }
 ],
 "metadata": {
  "kernelspec": {
   "display_name": "Python 3 (ipykernel)",
   "language": "python",
   "name": "python3"
  },
  "language_info": {
   "codemirror_mode": {
    "name": "ipython",
    "version": 3
   },
   "file_extension": ".py",
   "mimetype": "text/x-python",
   "name": "python",
   "nbconvert_exporter": "python",
   "pygments_lexer": "ipython3",
   "version": "3.9.12"
  }
 },
 "nbformat": 4,
 "nbformat_minor": 5
}
